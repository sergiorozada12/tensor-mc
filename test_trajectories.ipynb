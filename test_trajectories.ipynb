{
 "cells": [
  {
   "cell_type": "code",
   "execution_count": 4,
   "metadata": {},
   "outputs": [],
   "source": [
    "import torch\n",
    "\n",
    "import tensorly as tl\n",
    "from tensorly.cp_tensor import cp_to_tensor\n",
    "\n",
    "from src.environments import MarkovChainSimulator\n",
    "from src.utils import ProbabilityTensorEstimator, reconstruct_transition_tensor"
   ]
  },
  {
   "cell_type": "code",
   "execution_count": 5,
   "metadata": {},
   "outputs": [],
   "source": [
    "tl.set_backend('pytorch')"
   ]
  },
  {
   "cell_type": "markdown",
   "metadata": {},
   "source": [
    "# 1) Example random tensor"
   ]
  },
  {
   "cell_type": "code",
   "execution_count": 9,
   "metadata": {},
   "outputs": [],
   "source": [
    "d1, d2, d3 = 10, 10, 10\n",
    "transition_probs = torch.rand(d1, d2, d3, d1, d2, d3)\n",
    "transition_probs = transition_probs / transition_probs.sum(dim=(-3, -2, -1), keepdim=True)\n",
    "\n",
    "mc_simulator = MarkovChainSimulator(transition_probs)\n",
    "\n",
    "num_trajectories = 100\n",
    "num_steps = 100\n",
    "trajectories = [mc_simulator.simulate(num_steps) for _ in range(num_trajectories)]\n",
    "\n",
    "estimator = ProbabilityTensorEstimator((d1, d2, d3))\n",
    "estimator.fit(trajectories)\n",
    "transition_tensor = estimator.get_transition_tensor()\n",
    "marginal_tensor = estimator.get_marginal_origin_state()\n",
    "joint_tensor = estimator.get_joint_distribution()\n",
    "\n",
    "recomputed_transition_tensor = reconstruct_transition_tensor(joint_tensor, marginal_tensor, (d1, d2, d3))\n",
    "\n",
    "assert torch.allclose(transition_tensor, recomputed_transition_tensor, atol=1e-6)"
   ]
  },
  {
   "cell_type": "markdown",
   "metadata": {},
   "source": [
    "# 2) Example low rank tensor"
   ]
  },
  {
   "cell_type": "code",
   "execution_count": 11,
   "metadata": {},
   "outputs": [],
   "source": [
    "def generate_probability_matrix(dims, K):\n",
    "    matrix = torch.rand(dims, K)\n",
    "    matrix = matrix / matrix.sum(dim=0, keepdim=True)\n",
    "    return matrix\n",
    "\n",
    "def generate_probability_vector(D):\n",
    "    vector = torch.rand(D)\n",
    "    vector = vector / vector.sum()\n",
    "    return vector\n",
    "\n",
    "def generate_tensor(D, K, d):\n",
    "    factors = [generate_probability_matrix(d, K) for _ in range(D)]\n",
    "    weights = generate_probability_vector(K)\n",
    "    return factors, weights"
   ]
  },
  {
   "cell_type": "code",
   "execution_count": 19,
   "metadata": {},
   "outputs": [],
   "source": [
    "D = 4\n",
    "K = 3\n",
    "d = 10\n",
    "N = 10_000\n",
    "\n",
    "factors, weights = generate_tensor(2 * D, K, d)\n",
    "P_joint = cp_to_tensor((weights, factors))\n",
    "P_marginal = cp_to_tensor((weights[:D], factors[:D]))\n",
    "P_conditional = reconstruct_transition_tensor(P_joint, P_marginal, (d, d, d, d))\n",
    "mc_simulator = MarkovChainSimulator(P_conditional)\n",
    "\n",
    "num_trajectories = 100\n",
    "num_steps = 100\n",
    "trajectories = [mc_simulator.simulate(num_steps) for _ in range(num_trajectories)]\n",
    "\n",
    "estimator = ProbabilityTensorEstimator((d, d, d, d))\n",
    "estimator.fit(trajectories)\n",
    "P_conditional_sampled = estimator.get_transition_tensor()\n",
    "P_marginal_sampled  = estimator.get_marginal_origin_state()\n",
    "P_joint_sampled  = estimator.get_joint_distribution()"
   ]
  }
 ],
 "metadata": {
  "kernelspec": {
   "display_name": "venv",
   "language": "python",
   "name": "python3"
  },
  "language_info": {
   "codemirror_mode": {
    "name": "ipython",
    "version": 3
   },
   "file_extension": ".py",
   "mimetype": "text/x-python",
   "name": "python",
   "nbconvert_exporter": "python",
   "pygments_lexer": "ipython3",
   "version": "3.11.5"
  }
 },
 "nbformat": 4,
 "nbformat_minor": 2
}
